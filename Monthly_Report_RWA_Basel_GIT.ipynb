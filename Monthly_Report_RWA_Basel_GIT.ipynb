{
 "cells": [
  {
   "cell_type": "code",
   "execution_count": 1,
   "metadata": {},
   "outputs": [],
   "source": [
    "# import necessary libraries\n",
    "import pandas as pd\n",
    "import os\n",
    "import glob\n",
    "import numpy as np\n",
    "  "
   ]
  },
  {
   "attachments": {},
   "cell_type": "markdown",
   "metadata": {},
   "source": [
    "Risk-Weighted Assets: Definition and Place in Basel III\n",
    "Calculation for a bank credit portfoilio"
   ]
  },
  {
   "attachments": {},
   "cell_type": "markdown",
   "metadata": {},
   "source": [
    "Risk-weighted assets are used to determine the minimum amount of capital a bank must hold in relation to the risk profile of its lending activities and other assets. This is done in order to reduce the risk of insolvency and protect depositors. The more risk a bank has, the more capital it needs on hand. The capital requirement is based on a risk assessment for each type of bank asset."
   ]
  },
  {
   "cell_type": "code",
   "execution_count": null,
   "metadata": {},
   "outputs": [],
   "source": [
    "\n",
    "\n",
    "Rate_conv= pd.read_csv('Rate_conv.csv')\n",
    "\n",
    "print(Rate_conv) "
   ]
  },
  {
   "cell_type": "code",
   "execution_count": null,
   "metadata": {},
   "outputs": [],
   "source": [
    "\n",
    "Col_weight = {\n",
    "    'Col Type':['V!','SOFTE',\t'SAHAM_BOURSE',\t'SAHAM_GHEIR_BOURSE',\t'ORAGH',\t'MANGHOL',\t'GHEIR_MANGHOL',\t'VASAYEGH_MELKI',\t'GHARARDAD_LAZEM',\t'SEPORDE_NAGHDI',\t'INSTRUMENTAMOUNT6'],\n",
    "\n",
    "    'Weight':[1,\t2,\t3,\t4,\t5,\t6,\t7,\t8,\t9,\t10,\t11]\n",
    "}\n",
    "Col_weight= pd.DataFrame(Col_weight)\n",
    "Col_weight=Col_weight.transpose()\n",
    "Col_weight"
   ]
  },
  {
   "cell_type": "code",
   "execution_count": 4,
   "metadata": {},
   "outputs": [],
   "source": [
    "Col_weight_value=[1,\t2,\t3,\t4,\t5,\t6,\t7,\t8,\t9,\t10,\t11]"
   ]
  },
  {
   "cell_type": "code",
   "execution_count": 5,
   "metadata": {},
   "outputs": [],
   "source": [
    "\n",
    "for filename in os.listdir('./'):\n",
    " try:\n",
    "   if( filename.endswith('.xls')):\n",
    "    df = pd.read_excel(filename,sheet_name=\"rep10\")\n",
    "    df.to_excel(f\"{os.path.splitext(filename)[0]}.xlsx\")\n",
    " except ValueError:\n",
    "      df = pd.read_excel(filename,sheet_name=\"REP10\")\n",
    "      df.to_excel(f\"{os.path.splitext(filename)[0]}.xlsx\")\n",
    "\n",
    "\n"
   ]
  },
  {
   "cell_type": "code",
   "execution_count": null,
   "metadata": {},
   "outputs": [],
   "source": [
    "\n",
    "\n",
    "  \n",
    "# use glob to get all the csv files\n",
    "# in the folder\n",
    "path = os.getcwd()\n",
    "csv_files = glob.glob(os.path.join(path, \"*.xlsx\"))\n",
    "  \n",
    "  \n",
    "# loop over the list of csv files\n",
    "for f in csv_files:\n",
    "    \n",
    "    # read the csv file\n",
    "    df = pd.read_excel(f)\n",
    "    m=df.shape\n",
    "    str0=f.split(\"\\\\\")[-1]\n",
    "    str1=str0[0:4]\n",
    "    df['Year'] = pd.DataFrame(np.zeros((m[0], 1)))\n",
    "    for i in range(0,m[0]):\n",
    "     df['Year'][i]=str1\n",
    "    str2=str0[5:6]\n",
    "    df['Month'] = pd.DataFrame(np.zeros((m[0], 1)))\n",
    "    for i in range(0,m[0]):\n",
    "     df['Month'][i]=str2\n",
    "   #######################################################################################  \n",
    "    df['Rate F'] = df.merge(Rate_conv, on='RATE', how='left')['Rate F']\n",
    "    for i in range(0,m[0]):\n",
    "     try:\n",
    "         t=df['Rate F'][i]\n",
    "         len(t)\n",
    "     except TypeError:    \n",
    "            df['Rate F'][i]='No Rate' \n",
    "    for i in range(0,m[0]):\n",
    "        if ((df['CUSTOMERTYPE'][i] == 'I')):\n",
    "         df['Rate F'][i]= 'شخص حقیقی'\n",
    "   #######################################################################################  \n",
    "\n",
    "   #######################################################################################  \n",
    "\n",
    "    for i in range(0,m[0]):\n",
    "     try:\n",
    "         t=df['INDUSTRYMAJORFIELD'][i]\n",
    "         len(t)\n",
    "     except TypeError:    \n",
    "            df['INDUSTRYMAJORFIELD'][i]='نامشخص' \n",
    "    for i in range(0,m[0]):\n",
    "        if ((df['CUSTOMERTYPE'][i] == 'I')):\n",
    "         df['INDUSTRYMAJORFIELD'][i]= 'شخص حقیقی'\n",
    "   ######################################################################################\n",
    "    for i in range(0,m[0]):\n",
    "     try:\n",
    "         t=df['INDUSTRYMINORFIELD'][i]\n",
    "         len(t)\n",
    "     except TypeError:    \n",
    "            df['INDUSTRYMINORFIELD'][i]='نامشخص' \n",
    "    for i in range(0,m[0]):\n",
    "        if ((df['CUSTOMERTYPE'][i] == 'I')):\n",
    "         df['INDUSTRYMINORFIELD'][i]= 'شخص حقیقی'\n",
    "    ######################################################################################\n",
    "    for i in range(0,m[0]):\n",
    "     try:\n",
    "         t=df['ISICMAJORCODE'][i]\n",
    "         len(t)\n",
    "     except TypeError:    \n",
    "            df['ISICMAJORCODE'][i]='نامشخص' \n",
    "    for i in range(0,m[0]):\n",
    "        if ((df['CUSTOMERTYPE'][i] == 'I')):\n",
    "         df['ISICMAJORCODE'][i]= 'شخص حقیقی'          \n",
    "       ######################################################################################\n",
    "    for i in range(0,m[0]):\n",
    "     try:\n",
    "         t=df['ISICMINORCODE'][i]\n",
    "         len(t)\n",
    "     except TypeError:    \n",
    "            df['ISICMINORCODE'][i]='نامشخص' \n",
    "    for i in range(0,m[0]):\n",
    "        if ((df['CUSTOMERTYPE'][i] == 'I')):\n",
    "         df['ISICMINORCODE'][i]= 'شخص حقیقی'               \n",
    "    ######################################################################################\n",
    "    for i in range(0,m[0]):\n",
    "     try:\n",
    "         t=df['COMPANY_TYPE'][i]\n",
    "         len(t)\n",
    "     except TypeError:    \n",
    "            df['COMPANY_TYPE'][i]='نامشخص' \n",
    "    for i in range(0,m[0]):\n",
    "        if ((df['CUSTOMERTYPE'][i] == 'I')):\n",
    "         df['COMPANY_TYPE'][i]= 'شخص حقیقی'    \n",
    "    ######################################################################################\n",
    "    df['Pd']=df.merge(Rate_conv, on='Rate F', how='left')['Pd']\n",
    "\n",
    "   #######################################################################################  \n",
    "    for i in range(0,m[0]):\n",
    "        if ((df['CUSTOMERTYPE'][i] == 'I')):\n",
    "         df['Pd'][i]= 0.15  \n",
    "        elif df['Rate F'][i] == 'No Rate':\n",
    "            df['Pd'][i]= 0.20\n",
    "    df['Pd'] = pd.to_numeric(df['Pd'], errors='coerce')\n",
    "            \n",
    "   #######################################################################################  \n",
    "\n",
    "\n",
    "    #np.savetxt(f\"{str}-{i}.csv\", df, delimiter=\", \", fmt=\"% s\")\n",
    "    df.to_excel(f\"{str0}-New.xlsx\", index=False)\n",
    "    os.remove(f)\n",
    "\n",
    "    display(df)\n",
    "    print()"
   ]
  },
  {
   "cell_type": "code",
   "execution_count": 7,
   "metadata": {},
   "outputs": [],
   "source": [
    "appended_data = []\n",
    "for infile in glob.glob(\"*.xlsx\"):\n",
    "    data = pd.read_excel(infile)\n",
    "    # store DataFrame in list\n",
    "    appended_data.append(data)\n",
    "# see pd.concat documentation for more info\n",
    "appended_data = pd.concat(appended_data)\n",
    "# write DataFrame to an excel sheet \n",
    "appended_data.to_excel('appended.xlsx')"
   ]
  },
  {
   "cell_type": "code",
   "execution_count": 109,
   "metadata": {},
   "outputs": [
    {
     "data": {
      "text/plain": [
       "222690"
      ]
     },
     "execution_count": 109,
     "metadata": {},
     "output_type": "execute_result"
    }
   ],
   "source": [
    "df = pd.read_excel('appended.xlsx')\n",
    "df=df.fillna(0)\n",
    "r=df.shape\n",
    "r[0]\n"
   ]
  },
  {
   "cell_type": "code",
   "execution_count": 9,
   "metadata": {},
   "outputs": [],
   "source": [
    "df['COL  with Ins']=\"\"\n",
    "df['COL  with Ins']=df['CHEQUE']*Col_weight_value[0]+df['SOFTE']*Col_weight_value[1]+df['SAHAM_BOURSE']*Col_weight_value[2]+df['SAHAM_GHEIR_BOURSE']*Col_weight_value[3]+df['ORAGH']*Col_weight_value[4]+df['MANGHOL']*Col_weight_value[5]+df['GHEIR_MANGHOL']*Col_weight_value[6]+df['VASAYEGH_MELKI']*Col_weight_value[7]+df['GHARARDAD_LAZEM']*Col_weight_value[8]+df['SEPORDE_NAGHDI']*Col_weight_value[9]+df['INSTRUMENTAMOUNT6']*Col_weight_value[10]\n",
    "\n",
    "df['COL  w/o Ins']=\"\"\n",
    "df['COL  w/o Ins']=df['CHEQUE']*Col_weight_value[0]+df['SOFTE']*Col_weight_value[1]+df['SAHAM_BOURSE']*Col_weight_value[2]+df['SAHAM_GHEIR_BOURSE']*Col_weight_value[3]+df['ORAGH']*Col_weight_value[4]+df['MANGHOL']*Col_weight_value[5]+df['GHEIR_MANGHOL']*Col_weight_value[6]+df['VASAYEGH_MELKI']*Col_weight_value[7]+df['GHARARDAD_LAZEM']*Col_weight_value[8]+df['SEPORDE_NAGHDI']*Col_weight_value[9]\n",
    "\n",
    "\n"
   ]
  },
  {
   "cell_type": "code",
   "execution_count": 10,
   "metadata": {},
   "outputs": [
    {
     "name": "stderr",
     "output_type": "stream",
     "text": [
      "C:\\Users\\r.abdollahi\\AppData\\Local\\Temp\\ipykernel_1508\\2578004766.py:3: SettingWithCopyWarning: \n",
      "A value is trying to be set on a copy of a slice from a DataFrame\n",
      "\n",
      "See the caveats in the documentation: https://pandas.pydata.org/pandas-docs/stable/user_guide/indexing.html#returning-a-view-versus-a-copy\n",
      "  df['Cov with Ins'][i]=df['COL  w/o Ins'][i]/df['CREDIT'][i]\n"
     ]
    }
   ],
   "source": [
    "df['Cov with Ins']=\"\"\n",
    "for i in range(0,r[0]) :\n",
    "    df['Cov with Ins'][i]=df['COL  w/o Ins'][i]/df['CREDIT'][i]\n"
   ]
  },
  {
   "cell_type": "code",
   "execution_count": 11,
   "metadata": {},
   "outputs": [
    {
     "name": "stderr",
     "output_type": "stream",
     "text": [
      "C:\\Users\\r.abdollahi\\AppData\\Local\\Temp\\ipykernel_1508\\2089426617.py:3: SettingWithCopyWarning: \n",
      "A value is trying to be set on a copy of a slice from a DataFrame\n",
      "\n",
      "See the caveats in the documentation: https://pandas.pydata.org/pandas-docs/stable/user_guide/indexing.html#returning-a-view-versus-a-copy\n",
      "  df['Cov w/o Ins'][i]=df['COL  w/o Ins'][i]/df['CREDIT'][i]\n"
     ]
    }
   ],
   "source": [
    "df['Cov w/o Ins']=\"\"\n",
    "for i in range(0,r[0]) :\n",
    "    df['Cov w/o Ins'][i]=df['COL  w/o Ins'][i]/df['CREDIT'][i]\n"
   ]
  },
  {
   "cell_type": "code",
   "execution_count": 12,
   "metadata": {},
   "outputs": [
    {
     "name": "stderr",
     "output_type": "stream",
     "text": [
      "C:\\Users\\r.abdollahi\\AppData\\Local\\Temp\\ipykernel_1508\\2848418918.py:3: SettingWithCopyWarning: \n",
      "A value is trying to be set on a copy of a slice from a DataFrame\n",
      "\n",
      "See the caveats in the documentation: https://pandas.pydata.org/pandas-docs/stable/user_guide/indexing.html#returning-a-view-versus-a-copy\n",
      "  df['Cov with Ins MAX2'][i]=min(df['Cov with Ins'][i],2)\n"
     ]
    }
   ],
   "source": [
    "df['Cov with Ins MAX2']=\"\"\n",
    "for i in range(0,r[0]) :\n",
    "    df['Cov with Ins MAX2'][i]=min(df['Cov with Ins'][i],2)"
   ]
  },
  {
   "cell_type": "code",
   "execution_count": 13,
   "metadata": {},
   "outputs": [
    {
     "name": "stderr",
     "output_type": "stream",
     "text": [
      "C:\\Users\\r.abdollahi\\AppData\\Local\\Temp\\ipykernel_1508\\1550672445.py:3: SettingWithCopyWarning: \n",
      "A value is trying to be set on a copy of a slice from a DataFrame\n",
      "\n",
      "See the caveats in the documentation: https://pandas.pydata.org/pandas-docs/stable/user_guide/indexing.html#returning-a-view-versus-a-copy\n",
      "  df['Cov w/o Ins MAX2'][i]=min(df['Cov w/o Ins'][i],2)\n"
     ]
    }
   ],
   "source": [
    "df['Cov w/o Ins MAX2']=\"\"\n",
    "for i in range(0,r[0]) :\n",
    "    df['Cov w/o Ins MAX2'][i]=min(df['Cov w/o Ins'][i],2)"
   ]
  },
  {
   "cell_type": "code",
   "execution_count": null,
   "metadata": {},
   "outputs": [],
   "source": [
    "df['PD']=df['Pd']\n",
    "df.drop(['Pd'], axis=1)"
   ]
  },
  {
   "cell_type": "code",
   "execution_count": 110,
   "metadata": {},
   "outputs": [],
   "source": [
    "from scipy.stats import norm\n",
    "import math"
   ]
  },
  {
   "cell_type": "code",
   "execution_count": 111,
   "metadata": {},
   "outputs": [],
   "source": [
    "df['RWA with Ins Max2']=\"\"\n",
    "df['LGD with Ins Max2']=\"\"\n",
    "df['G with Ins Max2']=\"\"\n",
    "df[' Exp(-50) with Ins Max2']=\"\"\n",
    "df[' Exp(-PD50) with Ins Max2']= \"\"\n",
    "df[' 1- Exp(-50*PD) / 1- Exp(-50) with Ins Max2']=\"\"\n",
    "df['R wo size with Ins Max2']=\"\"\n",
    "df['Size adjustment Ins Max2']=\"\" \n",
    "df['G999 with Ins Max2']=\"\" \n",
    "df['R with size with Ins Max2']= \"\" \n",
    "df['sqrt R with Ins Max2'] = \"\" \n",
    "df['sqrt 1-R with Ins Max2'] = \"\" \n",
    "df['G(PD)*sqrt(1/1-r) with Ins Max2'] = \"\"\n",
    "df['G(0.999)*sqrt(1/1-r) with Ins Max2'] = \"\" \n",
    "df['inside N with Ins Max2'] = \"\"\n",
    "df[' N with Ins Max2'] = \"\" \n",
    "df[' N-PD with Ins Max2'] = \"\"\n",
    "df['b with Ins Max2'] = \"\" \n",
    "df['(1+(M-2.5)b)/(1-1.5b) with Ins Max2'] = \"\" \n",
    "df['K with Ins Max2'] = \"\" \n",
    "df['RWA with Ins Max2'] = \"\""
   ]
  },
  {
   "cell_type": "code",
   "execution_count": null,
   "metadata": {},
   "outputs": [],
   "source": [
    "for i in range(0,r[0]):\n",
    "    df['LGD with Ins Max2'][i]=1-df['Cov with Ins MAX2'][i]\n",
    "    df['G with Ins Max2'][i]=norm.ppf(df['PD'][i])\n",
    "    df[' Exp(-50) with Ins Max2'][i]=1-math.exp(-50)\n",
    "df[' Exp(-50) with Ins Max2']"
   ]
  },
  {
   "cell_type": "code",
   "execution_count": null,
   "metadata": {},
   "outputs": [],
   "source": [
    "for i in range(0,r[0]):\n",
    "    df[' Exp(-50) with Ins Max2'][i]=1-math.exp(-50)\n",
    "df[' Exp(-50) with Ins Max2']"
   ]
  },
  {
   "cell_type": "code",
   "execution_count": null,
   "metadata": {},
   "outputs": [],
   "source": [
    "for i in range(0,r[0]):\n",
    "    df[' Exp(-PD50) with Ins Max2'][i]=1-math.exp(-50*df['PD'][i])\n",
    "df[' Exp(-PD50) with Ins Max2']"
   ]
  },
  {
   "cell_type": "code",
   "execution_count": null,
   "metadata": {},
   "outputs": [],
   "source": [
    "for i in range(0,r[0]):\n",
    "        df[' 1- Exp(-50*PD) / 1- Exp(-50) with Ins Max2'][i]=df[' Exp(-PD50) with Ins Max2'][i]/df[' Exp(-50) with Ins Max2'][i]\n",
    "df[' 1- Exp(-50*PD) / 1- Exp(-50) with Ins Max2']"
   ]
  },
  {
   "cell_type": "code",
   "execution_count": null,
   "metadata": {},
   "outputs": [],
   "source": [
    "for i in range(0,r[0]):\n",
    "    df['R wo size with Ins Max2'][i]=0.12*df[' 1- Exp(-50*PD) / 1- Exp(-50) with Ins Max2'][i]+0.24*(1-df[' 1- Exp(-50*PD) / 1- Exp(-50) with Ins Max2'][i])\n",
    "df['R wo size with Ins Max2']"
   ]
  },
  {
   "cell_type": "code",
   "execution_count": null,
   "metadata": {},
   "outputs": [],
   "source": [
    "for i in range(0,r[0]):\n",
    "    size=0\n",
    "    df['Size adjustment Ins Max2'][i]=-0.04*(1- max((size-5),0)/45)\n",
    "df['Size adjustment Ins Max2']"
   ]
  },
  {
   "cell_type": "code",
   "execution_count": null,
   "metadata": {},
   "outputs": [],
   "source": [
    "for i in range(0,r[0]):\n",
    " df['G999 with Ins Max2'][i]=norm.ppf(0.999)\n",
    "df['G999 with Ins Max2'] "
   ]
  },
  {
   "cell_type": "code",
   "execution_count": null,
   "metadata": {},
   "outputs": [],
   "source": [
    "for i in range(0,r[0]):\n",
    " df['R with size with Ins Max2'][i]=df['R wo size with Ins Max2'][i]+df['Size adjustment Ins Max2'][i]\n",
    "df['R with size with Ins Max2'] "
   ]
  },
  {
   "cell_type": "code",
   "execution_count": null,
   "metadata": {},
   "outputs": [],
   "source": [
    "df['sqrt R with Ins Max2 ']=\"\"\n",
    "for i in range(0,r[0]):\n",
    " df['sqrt R with Ins Max2 '][i]=math.sqrt(1/(1-df['R with size with Ins Max2'][i]))\n",
    "df['sqrt R with Ins Max2 '] "
   ]
  },
  {
   "cell_type": "code",
   "execution_count": null,
   "metadata": {},
   "outputs": [],
   "source": [
    "for i in range(0,r[0]):\n",
    " df['sqrt 1-R with Ins Max2'][i]=math.sqrt(df['R with size with Ins Max2'][i]/(1-df['R with size with Ins Max2'][i]))\n",
    "df['sqrt 1-R with Ins Max2'] "
   ]
  },
  {
   "cell_type": "code",
   "execution_count": null,
   "metadata": {},
   "outputs": [],
   "source": [
    "import numpy as np\n",
    "df['G with Ins Max2']\n",
    "df['G with Ins Max2'].replace([np.inf, -np.inf], np.nan,inplace=True)\n",
    "df['G with Ins Max2']=df['G with Ins Max2'].fillna(0)\n",
    "df['G with Ins Max2']\n"
   ]
  },
  {
   "cell_type": "code",
   "execution_count": null,
   "metadata": {},
   "outputs": [],
   "source": [
    "df['sqrt R with Ins Max2 ']"
   ]
  },
  {
   "cell_type": "code",
   "execution_count": null,
   "metadata": {},
   "outputs": [],
   "source": [
    "for i in range(0,r[0]):\n",
    " df['G(PD)*sqrt(1/1-r) with Ins Max2'][i]=df['G with Ins Max2'][i]*df['sqrt R with Ins Max2 '][i]\n",
    "df['G(PD)*sqrt(1/1-r) with Ins Max2'] "
   ]
  },
  {
   "cell_type": "code",
   "execution_count": null,
   "metadata": {},
   "outputs": [],
   "source": [
    "for i in range(0,r[0]):\n",
    " df['G(0.999)*sqrt(1/1-r) with Ins Max2'][i]=df['G999 with Ins Max2'][i]*df['sqrt 1-R with Ins Max2'][i]\n",
    "df['G(0.999)*sqrt(1/1-r) with Ins Max2']"
   ]
  },
  {
   "cell_type": "code",
   "execution_count": null,
   "metadata": {},
   "outputs": [],
   "source": [
    "for i in range(0,r[0]):\n",
    " df['inside N with Ins Max2'][i]=df['G(PD)*sqrt(1/1-r) with Ins Max2'][i]+df['G(0.999)*sqrt(1/1-r) with Ins Max2'][i]\n",
    "df['inside N with Ins Max2']"
   ]
  },
  {
   "cell_type": "code",
   "execution_count": null,
   "metadata": {},
   "outputs": [],
   "source": [
    "for i in range(0,r[0]):\n",
    " df[' N with Ins Max2'][i]=norm.cdf(df['inside N with Ins Max2'][i])\n",
    "df[' N with Ins Max2']"
   ]
  },
  {
   "cell_type": "code",
   "execution_count": null,
   "metadata": {},
   "outputs": [],
   "source": [
    "for i in range(0,r[0]):\n",
    " df[' N-PD with Ins Max2'][i]=df[' N with Ins Max2'][i]-df['PD'][i]\n",
    "df[' N-PD with Ins Max2']"
   ]
  },
  {
   "cell_type": "code",
   "execution_count": null,
   "metadata": {},
   "outputs": [],
   "source": [
    "df['LGD*(N-PD) with Ins Max2']=\"\"\n",
    "for i in range(0,r[0]):\n",
    " df['LGD*(N-PD) with Ins Max2'][i]=df['LGD with Ins Max2'][i]*df[' N-PD with Ins Max2'][i]\n",
    "df['LGD*(N-PD) with Ins Max2']"
   ]
  },
  {
   "cell_type": "code",
   "execution_count": null,
   "metadata": {},
   "outputs": [],
   "source": [
    "for i in range(0,r[0]):\n",
    " #df['PD'][i]= Decimal(df['PD'][i])  \n",
    "  df['b with Ins Max2'][i]=(0.11852-0.05478*np.log(df['PD'][i]))**2\n",
    "df['b with Ins Max2']\n",
    "#df['PD']"
   ]
  },
  {
   "cell_type": "code",
   "execution_count": null,
   "metadata": {},
   "outputs": [],
   "source": [
    "df['b with Ins Max2'].replace([np.inf, -np.inf], np.nan,inplace=True)\n",
    "df['b with Ins Max2']=df['b with Ins Max2'].fillna(0)\n",
    "df['b with Ins Max2']"
   ]
  },
  {
   "cell_type": "code",
   "execution_count": null,
   "metadata": {},
   "outputs": [],
   "source": [
    "for i in range(0,r[0]):\n",
    "    M_constact=1\n",
    "    df['(1+(M-2.5)b)/(1-1.5b) with Ins Max2'][i]= (1+(M_constact-2.5)*df['b with Ins Max2'][i])/(1-1.5*df['b with Ins Max2'][i])\n",
    "df['(1+(M-2.5)b)/(1-1.5b) with Ins Max2']    "
   ]
  },
  {
   "cell_type": "code",
   "execution_count": null,
   "metadata": {},
   "outputs": [],
   "source": [
    "for i in range(0,r[0]):\n",
    "    M_constact=1\n",
    "    df['K with Ins Max2'][i] =  df['(1+(M-2.5)b)/(1-1.5b) with Ins Max2'][i]*df['LGD*(N-PD) with Ins Max2'][i]\n",
    "df['K with Ins Max2']"
   ]
  },
  {
   "cell_type": "code",
   "execution_count": null,
   "metadata": {},
   "outputs": [],
   "source": [
    "for i in range(0,r[0]):\n",
    "    EAD = 1\n",
    "    #EAD will be calculated later\n",
    "    df['RWA with Ins Max2'][i]=EAD*df['K with Ins Max2'][i] *12.5\n",
    "df['RWA with Ins Max2']"
   ]
  },
  {
   "cell_type": "code",
   "execution_count": 141,
   "metadata": {},
   "outputs": [],
   "source": [
    "df.to_excel(\"Final_data.xlsx\", index=False)"
   ]
  }
 ],
 "metadata": {
  "kernelspec": {
   "display_name": "Python 3.9.0 64-bit",
   "language": "python",
   "name": "python3"
  },
  "language_info": {
   "codemirror_mode": {
    "name": "ipython",
    "version": 3
   },
   "file_extension": ".py",
   "mimetype": "text/x-python",
   "name": "python",
   "nbconvert_exporter": "python",
   "pygments_lexer": "ipython3",
   "version": "3.9.0 (tags/v3.9.0:9cf6752, Oct  5 2020, 15:34:40) [MSC v.1927 64 bit (AMD64)]"
  },
  "orig_nbformat": 4,
  "vscode": {
   "interpreter": {
    "hash": "aaee4e88c8713e583bc21b571e15121b26e77456b19712a4698a0a9b5e3320c0"
   }
  }
 },
 "nbformat": 4,
 "nbformat_minor": 2
}
